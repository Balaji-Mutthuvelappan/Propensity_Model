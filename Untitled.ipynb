{
 "cells": [
  {
   "cell_type": "code",
   "execution_count": 8,
   "id": "38e73478-7d10-4128-957c-49ee3a30d3d7",
   "metadata": {},
   "outputs": [
    {
     "name": "stdout",
     "output_type": "stream",
     "text": [
      "Start Date for Training: 2024-08-23\n",
      "End Date for Training: 2025-08-23\n",
      "Start Date for Testing: 2025-08-24\n",
      "End Date for Testing: 2025-10-21\n",
      "Start day of refresh: 2024-10-22\n",
      "End day of refresh: 2025-10-21\n",
      "Starting the pipeline\n"
     ]
    },
    {
     "name": "stderr",
     "output_type": "stream",
     "text": [
      "2025-10-22 10:12:03,408 - INFO - Run ID: 20251022101203\n",
      "2025-10-22 10:12:03,408 - INFO - Training period: 2024-08-23 to 2025-08-23\n",
      "2025-10-22 10:12:03,408 - INFO - Processing: Site_Key=166, Business_Unit=US, Country_Name=United States, Prestige_Region=North America\n",
      "C:\\Users\\balaji_muthuvelapp77\\Deployment on VM\\Propensity_Model\\bigquery_ops.py:119: FutureWarning: read_gbq is deprecated and will be removed in a future version. Please use pandas_gbq.read_gbq instead: https://pandas-gbq.readthedocs.io/en/latest/api.html#pandas_gbq.read_gbq\n",
      "  results_df = pd.read_gbq(query=sql_query, project_id=self.project_id, index_col=None,\n"
     ]
    },
    {
     "name": "stdout",
     "output_type": "stream",
     "text": [
      "balaji_muthuvelapp77 Connection to Big Query was successful.\n"
     ]
    },
    {
     "name": "stderr",
     "output_type": "stream",
     "text": [
      "2025-10-22 10:14:59,529 - INFO - Total time taken 175.92 s.\n",
      "Finished at 2025-10-22 10:14:59.\n",
      "2025-10-22 10:14:59,531 - INFO - Feature engineering started\n"
     ]
    },
    {
     "name": "stdout",
     "output_type": "stream",
     "text": [
      "Data successfully pulled from Big Query.\n"
     ]
    },
    {
     "name": "stderr",
     "output_type": "stream",
     "text": [
      "2025-10-22 10:15:01,416 - INFO - Feature engineering completed\n",
      "2025-10-22 10:15:02,691 - INFO - Model building data preparation completed\n",
      "C:\\Users\\balaji_muthuvelapp77\\Deployment on VM\\Propensity_Model\\bigquery_ops.py:119: FutureWarning: read_gbq is deprecated and will be removed in a future version. Please use pandas_gbq.read_gbq instead: https://pandas-gbq.readthedocs.io/en/latest/api.html#pandas_gbq.read_gbq\n",
      "  results_df = pd.read_gbq(query=sql_query, project_id=self.project_id, index_col=None,\n"
     ]
    },
    {
     "name": "stdout",
     "output_type": "stream",
     "text": [
      "balaji_muthuvelapp77 Connection to Big Query was successful.\n"
     ]
    },
    {
     "name": "stderr",
     "output_type": "stream",
     "text": [
      "2025-10-22 10:15:03,203 - INFO - Best parameters fetched for Site_Key=166, Country_Name=United States, Prestige_Region=North America\n",
      "2025-10-22 10:15:03,213 - INFO - Best Parameters:   model_parameters\n",
      "0     (25, 10, 10)\n",
      "2025-10-22 10:15:03,214 - INFO - Model refresh started\n"
     ]
    },
    {
     "name": "stdout",
     "output_type": "stream",
     "text": [
      "Data successfully pulled from Big Query.\n"
     ]
    },
    {
     "name": "stderr",
     "output_type": "stream",
     "text": [
      "100%|██████████████████████████████████████████████████████████████████████████████████| 10/10 [00:12<00:00,  1.25s/it]\n",
      "2025-10-22 10:15:15,913 - INFO - Model refresh completed\n",
      "2025-10-22 10:15:15,916 - INFO - Generating model recommendations\n",
      "2025-10-22 10:15:58,343 - INFO - Model recommendations completed\n",
      "2025-10-22 10:15:58,352 - INFO - Top Recommendations:\n",
      "                 Recommendation_1 Recommendation_2  Recommendation_3  \\\n",
      "87356609  prestige_skincare_score       hair_score   cosmetics_score   \n",
      "83702034               hair_score  cosmetics_score     devices_score   \n",
      "83088950               hair_score  fragrance_score  beauty_box_score   \n",
      "81813219  prestige_skincare_score       hair_score   cosmetics_score   \n",
      "84056306  prestige_skincare_score       hair_score     devices_score   \n",
      "\n",
      "          Recommendation_4  Recommendation_5         Recommendation_6  \\\n",
      "87356609     devices_score  beauty_box_score          fragrance_score   \n",
      "83702034  beauty_box_score   fragrance_score  prestige_skincare_score   \n",
      "83088950     devices_score   cosmetics_score  prestige_skincare_score   \n",
      "81813219     devices_score  beauty_box_score          fragrance_score   \n",
      "84056306  beauty_box_score   fragrance_score          cosmetics_score   \n",
      "\n",
      "                     Recommendation_7   Score_1   Score_2       Score_3  \\\n",
      "87356609  professional_skincare_score  0.009580  0.004787  4.686590e-03   \n",
      "83702034  professional_skincare_score  0.010307  0.009106  4.549817e-03   \n",
      "83088950  professional_skincare_score  0.016812  0.004869 -3.402823e+38   \n",
      "81813219  professional_skincare_score  0.009533  0.004752  4.657043e-03   \n",
      "84056306  professional_skincare_score  0.013313  0.008635  3.826514e-03   \n",
      "\n",
      "               Score_4       Score_5       Score_6       Score_7  \n",
      "87356609  1.719296e-03  1.626128e-03  2.420696e-04 -3.402823e+38  \n",
      "83702034  4.305757e-03  1.788081e-03 -3.402823e+38 -3.402823e+38  \n",
      "83088950 -3.402823e+38 -3.402823e+38 -3.402823e+38 -3.402823e+38  \n",
      "81813219  1.697471e-03  1.607442e-03  2.406315e-04 -3.402823e+38  \n",
      "84056306  3.455173e-03  1.380376e-03 -3.402823e+38 -3.402823e+38  \n",
      "2025-10-22 10:15:59,020 - INFO - user_level_data_dataset merged\n",
      "2025-10-22 10:15:59,023 - INFO - user_level_data_dataset categories purchased and categories not purchased has started\n",
      "2025-10-22 10:17:08,799 - INFO - Refresh completed for 166, US, United States, North America\n",
      "C:\\Users\\balaji_muthuvelapp77\\AppData\\Local\\Temp\\2\\ipykernel_3720\\3252946249.py:276: FutureWarning: DataFrame.applymap has been deprecated. Use DataFrame.map instead.\n",
      "  user_level_data_dataset[columns_to_clean] = user_level_data_dataset[columns_to_clean].applymap(lambda x: x.replace(\"_score\", \"\") if isinstance(x, str) else x)\n",
      "C:\\Users\\balaji_muthuvelapp77\\AppData\\Local\\Temp\\2\\ipykernel_3720\\3252946249.py:277: FutureWarning: DataFrame.applymap has been deprecated. Use DataFrame.map instead.\n",
      "  user_level_data_dataset[columns_to_clean] = user_level_data_dataset[columns_to_clean].applymap(lambda x: x.capitalize() if isinstance(x, str) else x)\n"
     ]
    },
    {
     "name": "stdout",
     "output_type": "stream",
     "text": [
      "balaji_muthuvelapp77 Connection to Big Query was successful.\n"
     ]
    },
    {
     "name": "stderr",
     "output_type": "stream",
     "text": [
      "C:\\Users\\balaji_muthuvelapp77\\Deployment on VM\\Propensity_Model\\bigquery_ops.py:119: FutureWarning: read_gbq is deprecated and will be removed in a future version. Please use pandas_gbq.read_gbq instead: https://pandas-gbq.readthedocs.io/en/latest/api.html#pandas_gbq.read_gbq\n",
      "  results_df = pd.read_gbq(query=sql_query, project_id=self.project_id, index_col=None,\n"
     ]
    },
    {
     "name": "stdout",
     "output_type": "stream",
     "text": [
      "Data successfully pulled from Big Query.\n",
      "balaji_muthuvelapp77 Connection to Big Query was successful.\n"
     ]
    },
    {
     "name": "stderr",
     "output_type": "stream",
     "text": [
      "C:\\Users\\balaji_muthuvelapp77\\Deployment on VM\\Propensity_Model\\bigquery_ops.py:73: FutureWarning: to_gbq is deprecated and will be removed in a future version. Please use pandas_gbq.to_gbq instead: https://pandas-gbq.readthedocs.io/en/latest/api.html#pandas_gbq.to_gbq\n",
      "  df.to_gbq(destination_table=table_id, project_id=self.project_id, if_exists=if_exists,\n",
      "222966 out of 222966 rows loaded.                                                                | 0/1 [00:00<?, ?it/s]\n",
      "100%|███████████████████████████████████████████████████████████████████████████████████| 1/1 [00:00<00:00, 694.65it/s]\n",
      "2025-10-22 10:18:21,030 - INFO - Data pushed to BQ successfully\n",
      "2025-10-22 10:18:21,033 - INFO - Run ID: 20251022101821\n",
      "2025-10-22 10:18:21,034 - INFO - Training period: 2024-08-23 to 2025-08-23\n",
      "2025-10-22 10:18:21,036 - INFO - Processing: Site_Key=166, Business_Unit=US, Country_Name=Canada, Prestige_Region=North America\n",
      "C:\\Users\\balaji_muthuvelapp77\\Deployment on VM\\Propensity_Model\\bigquery_ops.py:119: FutureWarning: read_gbq is deprecated and will be removed in a future version. Please use pandas_gbq.read_gbq instead: https://pandas-gbq.readthedocs.io/en/latest/api.html#pandas_gbq.read_gbq\n",
      "  results_df = pd.read_gbq(query=sql_query, project_id=self.project_id, index_col=None,\n"
     ]
    },
    {
     "name": "stdout",
     "output_type": "stream",
     "text": [
      "\n",
      "Data import into Big Query thg-beautythg-beauty.Workspace_Sandbox.propensity_category the WRITE option was append.\n",
      "balaji_muthuvelapp77 Connection to Big Query was successful.\n",
      "Data successfully pulled from Big Query.\n"
     ]
    },
    {
     "name": "stderr",
     "output_type": "stream",
     "text": [
      "2025-10-22 10:18:23,129 - INFO - Feature engineering started\n",
      "2025-10-22 10:18:23,202 - INFO - Feature engineering completed\n",
      "2025-10-22 10:18:23,247 - INFO - Model building data preparation completed\n",
      "C:\\Users\\balaji_muthuvelapp77\\Deployment on VM\\Propensity_Model\\bigquery_ops.py:119: FutureWarning: read_gbq is deprecated and will be removed in a future version. Please use pandas_gbq.read_gbq instead: https://pandas-gbq.readthedocs.io/en/latest/api.html#pandas_gbq.read_gbq\n",
      "  results_df = pd.read_gbq(query=sql_query, project_id=self.project_id, index_col=None,\n"
     ]
    },
    {
     "name": "stdout",
     "output_type": "stream",
     "text": [
      "balaji_muthuvelapp77 Connection to Big Query was successful.\n"
     ]
    },
    {
     "name": "stderr",
     "output_type": "stream",
     "text": [
      "2025-10-22 10:18:23,773 - INFO - Best parameters fetched for Site_Key=166, Country_Name=Canada, Prestige_Region=North America\n",
      "2025-10-22 10:18:23,777 - INFO - Best Parameters:   model_parameters\n",
      "0  (25, 10, 0.001)\n",
      "2025-10-22 10:18:23,778 - INFO - Model refresh started\n"
     ]
    },
    {
     "name": "stdout",
     "output_type": "stream",
     "text": [
      "Data successfully pulled from Big Query.\n"
     ]
    },
    {
     "name": "stderr",
     "output_type": "stream",
     "text": [
      "100%|█████████████████████████████████████████████████████████████████████████████████| 10/10 [00:00<00:00, 400.23it/s]\n",
      "2025-10-22 10:18:23,867 - INFO - Model refresh completed\n",
      "2025-10-22 10:18:23,867 - INFO - Generating model recommendations\n",
      "2025-10-22 10:18:23,992 - INFO - Model recommendations completed\n",
      "2025-10-22 10:18:24,000 - INFO - Top Recommendations:\n",
      "                  Recommendation_1  Recommendation_2  Recommendation_3  \\\n",
      "184564630  prestige_skincare_score   cosmetics_score  beauty_box_score   \n",
      "106591555  prestige_skincare_score   cosmetics_score  beauty_box_score   \n",
      "180307770  prestige_skincare_score   cosmetics_score  beauty_box_score   \n",
      "182973796          cosmetics_score     devices_score  beauty_box_score   \n",
      "183438686            devices_score  beauty_box_score   cosmetics_score   \n",
      "\n",
      "          Recommendation_4 Recommendation_5         Recommendation_6  \\\n",
      "184564630       hair_score  fragrance_score            devices_score   \n",
      "106591555       hair_score  fragrance_score            devices_score   \n",
      "180307770       hair_score  fragrance_score            devices_score   \n",
      "182973796       hair_score  fragrance_score  prestige_skincare_score   \n",
      "183438686  fragrance_score       hair_score  prestige_skincare_score   \n",
      "\n",
      "                      Recommendation_7   Score_1   Score_2   Score_3  \\\n",
      "184564630  professional_skincare_score  0.000484  0.000279  0.000121   \n",
      "106591555  professional_skincare_score  0.000492  0.000270  0.000118   \n",
      "180307770  professional_skincare_score  0.000482  0.000280  0.000121   \n",
      "182973796  professional_skincare_score  0.001061  0.000962  0.000065   \n",
      "183438686  professional_skincare_score  0.001274  0.000725  0.000099   \n",
      "\n",
      "            Score_4   Score_5       Score_6       Score_7  \n",
      "184564630  0.000094 -0.000280 -5.507634e-04 -3.402823e+38  \n",
      "106591555  0.000087 -0.000279 -5.413092e-04 -3.402823e+38  \n",
      "180307770  0.000096 -0.000280 -5.528087e-04 -3.402823e+38  \n",
      "182973796 -0.000413 -0.000900 -3.402823e+38 -3.402823e+38  \n",
      "183438686 -0.000586 -0.000945 -3.402823e+38 -3.402823e+38  \n",
      "2025-10-22 10:18:24,012 - INFO - user_level_data_dataset merged\n",
      "2025-10-22 10:18:24,014 - INFO - user_level_data_dataset categories purchased and categories not purchased has started\n",
      "2025-10-22 10:18:24,132 - INFO - Refresh completed for 166, US, Canada, North America\n",
      "C:\\Users\\balaji_muthuvelapp77\\AppData\\Local\\Temp\\2\\ipykernel_3720\\3252946249.py:276: FutureWarning: DataFrame.applymap has been deprecated. Use DataFrame.map instead.\n",
      "  user_level_data_dataset[columns_to_clean] = user_level_data_dataset[columns_to_clean].applymap(lambda x: x.replace(\"_score\", \"\") if isinstance(x, str) else x)\n",
      "C:\\Users\\balaji_muthuvelapp77\\AppData\\Local\\Temp\\2\\ipykernel_3720\\3252946249.py:277: FutureWarning: DataFrame.applymap has been deprecated. Use DataFrame.map instead.\n",
      "  user_level_data_dataset[columns_to_clean] = user_level_data_dataset[columns_to_clean].applymap(lambda x: x.capitalize() if isinstance(x, str) else x)\n",
      "C:\\Users\\balaji_muthuvelapp77\\Deployment on VM\\Propensity_Model\\bigquery_ops.py:119: FutureWarning: read_gbq is deprecated and will be removed in a future version. Please use pandas_gbq.read_gbq instead: https://pandas-gbq.readthedocs.io/en/latest/api.html#pandas_gbq.read_gbq\n",
      "  results_df = pd.read_gbq(query=sql_query, project_id=self.project_id, index_col=None,\n"
     ]
    },
    {
     "name": "stdout",
     "output_type": "stream",
     "text": [
      "balaji_muthuvelapp77 Connection to Big Query was successful.\n",
      "Data successfully pulled from Big Query.\n",
      "balaji_muthuvelapp77 Connection to Big Query was successful.\n"
     ]
    },
    {
     "name": "stderr",
     "output_type": "stream",
     "text": [
      "C:\\Users\\balaji_muthuvelapp77\\Deployment on VM\\Propensity_Model\\bigquery_ops.py:73: FutureWarning: to_gbq is deprecated and will be removed in a future version. Please use pandas_gbq.to_gbq instead: https://pandas-gbq.readthedocs.io/en/latest/api.html#pandas_gbq.to_gbq\n",
      "  df.to_gbq(destination_table=table_id, project_id=self.project_id, if_exists=if_exists,\n",
      "358 out of 358 rows loaded.NFO -                                                                 | 0/1 [00:00<?, ?it/s]\n",
      "100%|████████████████████████████████████████████████████████████████████████████████████████████| 1/1 [00:00<?, ?it/s]\n",
      "2025-10-22 10:18:31,152 - INFO - Data pushed to BQ successfully\n",
      "2025-10-22 10:18:31,154 - INFO - Run ID: 20251022101831\n",
      "2025-10-22 10:18:31,156 - INFO - Training period: 2024-08-23 to 2025-08-23\n",
      "2025-10-22 10:18:31,157 - INFO - Processing: Site_Key=37, Business_Unit=CORE, Country_Name=United Kingdom, Prestige_Region=UK\n",
      "C:\\Users\\balaji_muthuvelapp77\\Deployment on VM\\Propensity_Model\\bigquery_ops.py:119: FutureWarning: read_gbq is deprecated and will be removed in a future version. Please use pandas_gbq.read_gbq instead: https://pandas-gbq.readthedocs.io/en/latest/api.html#pandas_gbq.read_gbq\n",
      "  results_df = pd.read_gbq(query=sql_query, project_id=self.project_id, index_col=None,\n"
     ]
    },
    {
     "name": "stdout",
     "output_type": "stream",
     "text": [
      "\n",
      "Data import into Big Query thg-beautythg-beauty.Workspace_Sandbox.propensity_category the WRITE option was append.\n",
      "balaji_muthuvelapp77 Connection to Big Query was successful.\n"
     ]
    },
    {
     "name": "stderr",
     "output_type": "stream",
     "text": [
      "2025-10-22 10:34:37,246 - INFO - Total time taken 966.09 s.\n",
      "Finished at 2025-10-22 10:34:37.\n",
      "2025-10-22 10:34:37,249 - INFO - Feature engineering started\n"
     ]
    },
    {
     "name": "stdout",
     "output_type": "stream",
     "text": [
      "Data successfully pulled from Big Query.\n",
      "Beauty_Box_Revenue\n",
      "Skin_Revenue\n",
      "Body_Revenue\n",
      "Cosmetics_Revenue\n",
      "Hair_Revenue\n",
      "Fragrance_Revenue\n",
      "Others_Revenue\n"
     ]
    },
    {
     "name": "stderr",
     "output_type": "stream",
     "text": [
      "2025-10-22 10:34:47,959 - INFO - Feature engineering completed\n",
      "2025-10-22 10:34:56,290 - INFO - Model building data preparation completed\n",
      "C:\\Users\\balaji_muthuvelapp77\\Deployment on VM\\Propensity_Model\\bigquery_ops.py:119: FutureWarning: read_gbq is deprecated and will be removed in a future version. Please use pandas_gbq.read_gbq instead: https://pandas-gbq.readthedocs.io/en/latest/api.html#pandas_gbq.read_gbq\n",
      "  results_df = pd.read_gbq(query=sql_query, project_id=self.project_id, index_col=None,\n"
     ]
    },
    {
     "name": "stdout",
     "output_type": "stream",
     "text": [
      "balaji_muthuvelapp77 Connection to Big Query was successful.\n"
     ]
    },
    {
     "name": "stderr",
     "output_type": "stream",
     "text": [
      "2025-10-22 10:34:56,805 - INFO - Best parameters fetched for Site_Key=37, Country_Name=United Kingdom, Prestige_Region=UK\n",
      "2025-10-22 10:34:56,808 - INFO - Best Parameters:   model_parameters\n",
      "0    (90, 40, 0.1)\n",
      "2025-10-22 10:34:56,809 - INFO - Model refresh started\n"
     ]
    },
    {
     "name": "stdout",
     "output_type": "stream",
     "text": [
      "Data successfully pulled from Big Query.\n"
     ]
    },
    {
     "name": "stderr",
     "output_type": "stream",
     "text": [
      "100%|██████████████████████████████████████████████████████████████████████████████████| 40/40 [05:15<00:00,  7.90s/it]\n",
      "2025-10-22 10:40:14,358 - INFO - Model refresh completed\n",
      "2025-10-22 10:40:14,358 - INFO - Generating model recommendations\n",
      "2025-10-22 10:44:21,997 - INFO - Model recommendations completed\n",
      "2025-10-22 10:44:22,007 - INFO - Top Recommendations:\n",
      "           Recommendation_1  Recommendation_2  Recommendation_3  \\\n",
      "28851320         hair_score  beauty_box_score      others_score   \n",
      "43363770   beauty_box_score      others_score   fragrance_score   \n",
      "21139955         skin_score  beauty_box_score      others_score   \n",
      "46797632         skin_score        hair_score        body_score   \n",
      "166049924   cosmetics_score   fragrance_score  beauty_box_score   \n",
      "\n",
      "          Recommendation_4  Recommendation_5 Recommendation_6  \\\n",
      "28851320        skin_score   fragrance_score  cosmetics_score   \n",
      "43363770        skin_score        hair_score  cosmetics_score   \n",
      "21139955        body_score   fragrance_score       hair_score   \n",
      "46797632   fragrance_score  beauty_box_score     others_score   \n",
      "166049924     others_score        hair_score       skin_score   \n",
      "\n",
      "          Recommendation_7   Score_1   Score_2   Score_3   Score_4  \\\n",
      "28851320        body_score  0.046195  0.000857 -0.001644 -0.067778   \n",
      "43363770        body_score  0.000641  0.000170 -0.003949 -0.054634   \n",
      "21139955   cosmetics_score  0.073797  0.000485  0.000480  0.000395   \n",
      "46797632   cosmetics_score  0.076663  0.030102  0.002438  0.000469   \n",
      "166049924       body_score  0.098450  0.003064  0.000226  0.000131   \n",
      "\n",
      "                Score_5       Score_6       Score_7  \n",
      "28851320  -3.402823e+38 -3.402823e+38 -3.402823e+38  \n",
      "43363770  -3.402823e+38 -3.402823e+38 -3.402823e+38  \n",
      "21139955  -1.312139e-03 -3.402823e+38 -3.402823e+38  \n",
      "46797632   3.635436e-04 -2.683792e-05 -3.402823e+38  \n",
      "166049924 -1.649654e-02 -3.402823e+38 -3.402823e+38  \n",
      "2025-10-22 10:44:25,933 - INFO - user_level_data_dataset merged\n",
      "2025-10-22 10:44:25,933 - INFO - user_level_data_dataset categories purchased and categories not purchased has started\n",
      "2025-10-22 10:51:03,925 - INFO - Refresh completed for 37, CORE, United Kingdom, UK\n",
      "C:\\Users\\balaji_muthuvelapp77\\AppData\\Local\\Temp\\2\\ipykernel_3720\\3252946249.py:276: FutureWarning: DataFrame.applymap has been deprecated. Use DataFrame.map instead.\n",
      "  user_level_data_dataset[columns_to_clean] = user_level_data_dataset[columns_to_clean].applymap(lambda x: x.replace(\"_score\", \"\") if isinstance(x, str) else x)\n",
      "C:\\Users\\balaji_muthuvelapp77\\AppData\\Local\\Temp\\2\\ipykernel_3720\\3252946249.py:277: FutureWarning: DataFrame.applymap has been deprecated. Use DataFrame.map instead.\n",
      "  user_level_data_dataset[columns_to_clean] = user_level_data_dataset[columns_to_clean].applymap(lambda x: x.capitalize() if isinstance(x, str) else x)\n"
     ]
    },
    {
     "name": "stdout",
     "output_type": "stream",
     "text": [
      "balaji_muthuvelapp77 Connection to Big Query was successful.\n"
     ]
    },
    {
     "name": "stderr",
     "output_type": "stream",
     "text": [
      "C:\\Users\\balaji_muthuvelapp77\\Deployment on VM\\Propensity_Model\\bigquery_ops.py:119: FutureWarning: read_gbq is deprecated and will be removed in a future version. Please use pandas_gbq.read_gbq instead: https://pandas-gbq.readthedocs.io/en/latest/api.html#pandas_gbq.read_gbq\n",
      "  results_df = pd.read_gbq(query=sql_query, project_id=self.project_id, index_col=None,\n"
     ]
    },
    {
     "name": "stdout",
     "output_type": "stream",
     "text": [
      "Data successfully pulled from Big Query.\n",
      "balaji_muthuvelapp77 Connection to Big Query was successful.\n"
     ]
    },
    {
     "name": "stderr",
     "output_type": "stream",
     "text": [
      "C:\\Users\\balaji_muthuvelapp77\\Deployment on VM\\Propensity_Model\\bigquery_ops.py:73: FutureWarning: to_gbq is deprecated and will be removed in a future version. Please use pandas_gbq.to_gbq instead: https://pandas-gbq.readthedocs.io/en/latest/api.html#pandas_gbq.to_gbq\n",
      "  df.to_gbq(destination_table=table_id, project_id=self.project_id, if_exists=if_exists,\n",
      "1371138 out of 1371138 rows loaded.                                                              | 0/1 [00:00<?, ?it/s]\n",
      "100%|████████████████████████████████████████████████████████████████████████████████████████████| 1/1 [00:00<?, ?it/s]\n",
      "2025-10-22 10:57:21,394 - INFO - Data pushed to BQ successfully\n",
      "2025-10-22 10:57:21,396 - INFO - Run ID: 20251022105721\n",
      "2025-10-22 10:57:21,397 - INFO - Training period: 2024-08-23 to 2025-08-23\n",
      "2025-10-22 10:57:21,399 - INFO - Processing: Site_Key=37, Business_Unit=CORE, Country_Name=Ireland, Prestige_Region=Ireland\n",
      "C:\\Users\\balaji_muthuvelapp77\\Deployment on VM\\Propensity_Model\\bigquery_ops.py:119: FutureWarning: read_gbq is deprecated and will be removed in a future version. Please use pandas_gbq.read_gbq instead: https://pandas-gbq.readthedocs.io/en/latest/api.html#pandas_gbq.read_gbq\n",
      "  results_df = pd.read_gbq(query=sql_query, project_id=self.project_id, index_col=None,\n"
     ]
    },
    {
     "name": "stdout",
     "output_type": "stream",
     "text": [
      "\n",
      "Data import into Big Query thg-beautythg-beauty.Workspace_Sandbox.propensity_category the WRITE option was append.\n",
      "balaji_muthuvelapp77 Connection to Big Query was successful.\n"
     ]
    },
    {
     "name": "stderr",
     "output_type": "stream",
     "text": [
      "2025-10-22 10:59:04,514 - INFO - Total time taken 103.11 s.\n",
      "Finished at 2025-10-22 10:59:04.\n",
      "2025-10-22 10:59:05,464 - INFO - Feature engineering started\n"
     ]
    },
    {
     "name": "stdout",
     "output_type": "stream",
     "text": [
      "Data successfully pulled from Big Query.\n",
      "Beauty_Box_Revenue\n",
      "Skin_Revenue\n",
      "Body_Revenue\n",
      "Cosmetics_Revenue\n",
      "Hair_Revenue\n",
      "Fragrance_Revenue\n",
      "Others_Revenue\n"
     ]
    },
    {
     "name": "stderr",
     "output_type": "stream",
     "text": [
      "2025-10-22 10:59:06,354 - INFO - Feature engineering completed\n",
      "2025-10-22 10:59:07,154 - INFO - Model building data preparation completed\n",
      "C:\\Users\\balaji_muthuvelapp77\\Deployment on VM\\Propensity_Model\\bigquery_ops.py:119: FutureWarning: read_gbq is deprecated and will be removed in a future version. Please use pandas_gbq.read_gbq instead: https://pandas-gbq.readthedocs.io/en/latest/api.html#pandas_gbq.read_gbq\n",
      "  results_df = pd.read_gbq(query=sql_query, project_id=self.project_id, index_col=None,\n"
     ]
    },
    {
     "name": "stdout",
     "output_type": "stream",
     "text": [
      "balaji_muthuvelapp77 Connection to Big Query was successful.\n"
     ]
    },
    {
     "name": "stderr",
     "output_type": "stream",
     "text": [
      "2025-10-22 10:59:07,643 - INFO - Best parameters fetched for Site_Key=37, Country_Name=Ireland, Prestige_Region=Ireland\n",
      "2025-10-22 10:59:07,644 - INFO - Best Parameters:   model_parameters\n",
      "0     (120, 50, 2)\n",
      "2025-10-22 10:59:07,649 - INFO - Model refresh started\n"
     ]
    },
    {
     "name": "stdout",
     "output_type": "stream",
     "text": [
      "Data successfully pulled from Big Query.\n"
     ]
    },
    {
     "name": "stderr",
     "output_type": "stream",
     "text": [
      "100%|██████████████████████████████████████████████████████████████████████████████████| 50/50 [00:42<00:00,  1.18it/s]\n",
      "2025-10-22 10:59:50,506 - INFO - Model refresh completed\n",
      "2025-10-22 10:59:50,508 - INFO - Generating model recommendations\n",
      "2025-10-22 11:00:12,254 - INFO - Model recommendations completed\n",
      "2025-10-22 11:00:12,265 - INFO - Top Recommendations:\n",
      "          Recommendation_1 Recommendation_2  Recommendation_3  \\\n",
      "99694803        body_score  fragrance_score  beauty_box_score   \n",
      "100098523  fragrance_score     others_score        body_score   \n",
      "182179745       skin_score       body_score  beauty_box_score   \n",
      "61596954      others_score  fragrance_score        body_score   \n",
      "167039793       body_score  fragrance_score  beauty_box_score   \n",
      "\n",
      "           Recommendation_4 Recommendation_5 Recommendation_6  \\\n",
      "99694803       others_score       hair_score  cosmetics_score   \n",
      "100098523  beauty_box_score       hair_score  cosmetics_score   \n",
      "182179745      others_score  fragrance_score       hair_score   \n",
      "61596954   beauty_box_score       hair_score  cosmetics_score   \n",
      "167039793      others_score       hair_score  cosmetics_score   \n",
      "\n",
      "          Recommendation_7   Score_1       Score_2       Score_3  \\\n",
      "99694803        skin_score  0.003966  3.170267e-03  1.587652e-03   \n",
      "100098523       skin_score  0.004817  6.239749e-04 -3.402823e+38   \n",
      "182179745  cosmetics_score  0.005888  3.567133e-03  1.543969e-03   \n",
      "61596954        skin_score  0.000608 -3.402823e+38 -3.402823e+38   \n",
      "167039793       skin_score  0.003968  3.163829e-03  1.586601e-03   \n",
      "\n",
      "                Score_4       Score_5       Score_6       Score_7  \n",
      "99694803   1.880839e-04 -3.402823e+38 -3.402823e+38 -3.402823e+38  \n",
      "100098523 -3.402823e+38 -3.402823e+38 -3.402823e+38 -3.402823e+38  \n",
      "182179745  1.681251e-04 -3.402823e+38 -3.402823e+38 -3.402823e+38  \n",
      "61596954  -3.402823e+38 -3.402823e+38 -3.402823e+38 -3.402823e+38  \n",
      "167039793  1.878506e-04 -3.402823e+38 -3.402823e+38 -3.402823e+38  \n",
      "2025-10-22 11:00:12,578 - INFO - user_level_data_dataset merged\n",
      "2025-10-22 11:00:12,579 - INFO - user_level_data_dataset categories purchased and categories not purchased has started\n",
      "2025-10-22 11:00:41,611 - INFO - Refresh completed for 37, CORE, Ireland, Ireland\n",
      "C:\\Users\\balaji_muthuvelapp77\\AppData\\Local\\Temp\\2\\ipykernel_3720\\3252946249.py:276: FutureWarning: DataFrame.applymap has been deprecated. Use DataFrame.map instead.\n",
      "  user_level_data_dataset[columns_to_clean] = user_level_data_dataset[columns_to_clean].applymap(lambda x: x.replace(\"_score\", \"\") if isinstance(x, str) else x)\n",
      "C:\\Users\\balaji_muthuvelapp77\\AppData\\Local\\Temp\\2\\ipykernel_3720\\3252946249.py:277: FutureWarning: DataFrame.applymap has been deprecated. Use DataFrame.map instead.\n",
      "  user_level_data_dataset[columns_to_clean] = user_level_data_dataset[columns_to_clean].applymap(lambda x: x.capitalize() if isinstance(x, str) else x)\n"
     ]
    },
    {
     "name": "stdout",
     "output_type": "stream",
     "text": [
      "balaji_muthuvelapp77 Connection to Big Query was successful.\n"
     ]
    },
    {
     "name": "stderr",
     "output_type": "stream",
     "text": [
      "C:\\Users\\balaji_muthuvelapp77\\Deployment on VM\\Propensity_Model\\bigquery_ops.py:119: FutureWarning: read_gbq is deprecated and will be removed in a future version. Please use pandas_gbq.read_gbq instead: https://pandas-gbq.readthedocs.io/en/latest/api.html#pandas_gbq.read_gbq\n",
      "  results_df = pd.read_gbq(query=sql_query, project_id=self.project_id, index_col=None,\n"
     ]
    },
    {
     "name": "stdout",
     "output_type": "stream",
     "text": [
      "Data successfully pulled from Big Query.\n",
      "balaji_muthuvelapp77 Connection to Big Query was successful.\n"
     ]
    },
    {
     "name": "stderr",
     "output_type": "stream",
     "text": [
      "C:\\Users\\balaji_muthuvelapp77\\Deployment on VM\\Propensity_Model\\bigquery_ops.py:73: FutureWarning: to_gbq is deprecated and will be removed in a future version. Please use pandas_gbq.to_gbq instead: https://pandas-gbq.readthedocs.io/en/latest/api.html#pandas_gbq.to_gbq\n",
      "  df.to_gbq(destination_table=table_id, project_id=self.project_id, if_exists=if_exists,\n",
      "116062 out of 116062 rows loaded.                                                                | 0/1 [00:00<?, ?it/s]\n",
      "100%|███████████████████████████████████████████████████████████████████████████████████| 1/1 [00:00<00:00, 589.34it/s]\n",
      "2025-10-22 11:01:16,455 - INFO - Data pushed to BQ successfully\n",
      "2025-10-22 11:01:16,458 - INFO - Run ID: 20251022110116\n",
      "2025-10-22 11:01:16,459 - INFO - Training period: 2024-08-23 to 2025-08-23\n",
      "2025-10-22 11:01:16,461 - INFO - Processing: Site_Key=231, Business_Unit=CULT, Country_Name=United Kingdom, Prestige_Region=UK\n",
      "C:\\Users\\balaji_muthuvelapp77\\Deployment on VM\\Propensity_Model\\bigquery_ops.py:119: FutureWarning: read_gbq is deprecated and will be removed in a future version. Please use pandas_gbq.read_gbq instead: https://pandas-gbq.readthedocs.io/en/latest/api.html#pandas_gbq.read_gbq\n",
      "  results_df = pd.read_gbq(query=sql_query, project_id=self.project_id, index_col=None,\n"
     ]
    },
    {
     "name": "stdout",
     "output_type": "stream",
     "text": [
      "\n",
      "Data import into Big Query thg-beautythg-beauty.Workspace_Sandbox.propensity_category the WRITE option was append.\n",
      "balaji_muthuvelapp77 Connection to Big Query was successful.\n"
     ]
    },
    {
     "name": "stderr",
     "output_type": "stream",
     "text": [
      "2025-10-22 11:04:46,274 - INFO - Total time taken 209.81 s.\n",
      "Finished at 2025-10-22 11:04:46.\n",
      "2025-10-22 11:04:46,329 - INFO - Feature engineering started\n"
     ]
    },
    {
     "name": "stdout",
     "output_type": "stream",
     "text": [
      "Data successfully pulled from Big Query.\n",
      "Beauty_Box_Revenue\n",
      "Skin_Revenue\n",
      "Body_Revenue\n",
      "Cosmetics_Revenue\n",
      "Hair_Revenue\n",
      "Fragrance_Revenue\n",
      "Others_Revenue\n"
     ]
    },
    {
     "name": "stderr",
     "output_type": "stream",
     "text": [
      "2025-10-22 11:04:48,655 - INFO - Feature engineering completed\n",
      "2025-10-22 11:04:50,315 - INFO - Model building data preparation completed\n",
      "C:\\Users\\balaji_muthuvelapp77\\Deployment on VM\\Propensity_Model\\bigquery_ops.py:119: FutureWarning: read_gbq is deprecated and will be removed in a future version. Please use pandas_gbq.read_gbq instead: https://pandas-gbq.readthedocs.io/en/latest/api.html#pandas_gbq.read_gbq\n",
      "  results_df = pd.read_gbq(query=sql_query, project_id=self.project_id, index_col=None,\n"
     ]
    },
    {
     "name": "stdout",
     "output_type": "stream",
     "text": [
      "balaji_muthuvelapp77 Connection to Big Query was successful.\n"
     ]
    },
    {
     "name": "stderr",
     "output_type": "stream",
     "text": [
      "2025-10-22 11:04:50,980 - INFO - Best parameters fetched for Site_Key=231, Country_Name=United Kingdom, Prestige_Region=UK\n",
      "2025-10-22 11:04:50,980 - INFO - Best Parameters:   model_parameters\n",
      "0     (150, 40, 2)\n",
      "2025-10-22 11:04:50,984 - INFO - Model refresh started\n"
     ]
    },
    {
     "name": "stdout",
     "output_type": "stream",
     "text": [
      "Data successfully pulled from Big Query.\n"
     ]
    },
    {
     "name": "stderr",
     "output_type": "stream",
     "text": [
      "100%|██████████████████████████████████████████████████████████████████████████████████| 40/40 [01:17<00:00,  1.94s/it]\n",
      "2025-10-22 11:06:09,079 - INFO - Model refresh completed\n",
      "2025-10-22 11:06:09,085 - INFO - Generating model recommendations\n",
      "2025-10-22 11:07:05,724 - INFO - Model recommendations completed\n",
      "2025-10-22 11:07:05,739 - INFO - Top Recommendations:\n",
      "          Recommendation_1 Recommendation_2 Recommendation_3  \\\n",
      "95630195        body_score     others_score  fragrance_score   \n",
      "159244302       hair_score       body_score  fragrance_score   \n",
      "171012508       hair_score       body_score  fragrance_score   \n",
      "99189864        hair_score       body_score  fragrance_score   \n",
      "168121584       skin_score       hair_score  fragrance_score   \n",
      "\n",
      "           Recommendation_4 Recommendation_5 Recommendation_6  \\\n",
      "95630195         hair_score  cosmetics_score       skin_score   \n",
      "159244302  beauty_box_score     others_score  cosmetics_score   \n",
      "171012508  beauty_box_score     others_score  cosmetics_score   \n",
      "99189864   beauty_box_score     others_score  cosmetics_score   \n",
      "168121584  beauty_box_score     others_score       body_score   \n",
      "\n",
      "           Recommendation_7   Score_1   Score_2       Score_3       Score_4  \\\n",
      "95630195   beauty_box_score  0.004807  0.000632 -3.402823e+38 -3.402823e+38   \n",
      "159244302        skin_score  0.002731  0.001920  1.331286e-03  7.826420e-04   \n",
      "171012508        skin_score  0.002656  0.001933  1.743595e-03  8.623147e-04   \n",
      "99189864         skin_score  0.002663  0.001957  1.681103e-03  8.976584e-04   \n",
      "168121584   cosmetics_score  0.004805  0.002948  1.376217e-03  8.465878e-04   \n",
      "\n",
      "                Score_5       Score_6       Score_7  \n",
      "95630195  -3.402823e+38 -3.402823e+38 -3.402823e+38  \n",
      "159244302  2.487224e-04 -3.402823e+38 -3.402823e+38  \n",
      "171012508  2.761323e-04 -3.402823e+38 -3.402823e+38  \n",
      "99189864   2.886719e-04 -3.402823e+38 -3.402823e+38  \n",
      "168121584  2.292370e-04 -3.402823e+38 -3.402823e+38  \n",
      "2025-10-22 11:07:06,600 - INFO - user_level_data_dataset merged\n",
      "2025-10-22 11:07:06,600 - INFO - user_level_data_dataset categories purchased and categories not purchased has started\n",
      "2025-10-22 11:08:34,919 - INFO - Refresh completed for 231, CULT, United Kingdom, UK\n",
      "C:\\Users\\balaji_muthuvelapp77\\AppData\\Local\\Temp\\2\\ipykernel_3720\\3252946249.py:276: FutureWarning: DataFrame.applymap has been deprecated. Use DataFrame.map instead.\n",
      "  user_level_data_dataset[columns_to_clean] = user_level_data_dataset[columns_to_clean].applymap(lambda x: x.replace(\"_score\", \"\") if isinstance(x, str) else x)\n",
      "C:\\Users\\balaji_muthuvelapp77\\AppData\\Local\\Temp\\2\\ipykernel_3720\\3252946249.py:277: FutureWarning: DataFrame.applymap has been deprecated. Use DataFrame.map instead.\n",
      "  user_level_data_dataset[columns_to_clean] = user_level_data_dataset[columns_to_clean].applymap(lambda x: x.capitalize() if isinstance(x, str) else x)\n"
     ]
    },
    {
     "name": "stdout",
     "output_type": "stream",
     "text": [
      "balaji_muthuvelapp77 Connection to Big Query was successful.\n"
     ]
    },
    {
     "name": "stderr",
     "output_type": "stream",
     "text": [
      "C:\\Users\\balaji_muthuvelapp77\\Deployment on VM\\Propensity_Model\\bigquery_ops.py:119: FutureWarning: read_gbq is deprecated and will be removed in a future version. Please use pandas_gbq.read_gbq instead: https://pandas-gbq.readthedocs.io/en/latest/api.html#pandas_gbq.read_gbq\n",
      "  results_df = pd.read_gbq(query=sql_query, project_id=self.project_id, index_col=None,\n"
     ]
    },
    {
     "name": "stdout",
     "output_type": "stream",
     "text": [
      "Data successfully pulled from Big Query.\n",
      "balaji_muthuvelapp77 Connection to Big Query was successful.\n"
     ]
    },
    {
     "name": "stderr",
     "output_type": "stream",
     "text": [
      "C:\\Users\\balaji_muthuvelapp77\\Deployment on VM\\Propensity_Model\\bigquery_ops.py:73: FutureWarning: to_gbq is deprecated and will be removed in a future version. Please use pandas_gbq.to_gbq instead: https://pandas-gbq.readthedocs.io/en/latest/api.html#pandas_gbq.to_gbq\n",
      "  df.to_gbq(destination_table=table_id, project_id=self.project_id, if_exists=if_exists,\n",
      "292463 out of 292463 rows loaded.                                                                | 0/1 [00:00<?, ?it/s]\n",
      "100%|████████████████████████████████████████████████████████████████████████████████████████████| 1/1 [00:00<?, ?it/s]\n",
      "2025-10-22 11:10:01,476 - INFO - Data pushed to BQ successfully\n"
     ]
    },
    {
     "name": "stdout",
     "output_type": "stream",
     "text": [
      "\n",
      "Data import into Big Query thg-beautythg-beauty.Workspace_Sandbox.propensity_category the WRITE option was append.\n",
      "Closing the pipeline\n"
     ]
    }
   ],
   "source": [
    "#!/usr/bin/env python\n",
    "# coding: utf-8\n",
    "\n",
    "# In[1]:\n",
    "\n",
    "\n",
    "#Python pip modules\n",
    "import pandas as pd\n",
    "import numpy as np\n",
    "import seaborn as sns\n",
    "import matplotlib.pyplot as plt\n",
    "from sklearn.preprocessing import MinMaxScaler\n",
    "from sklearn.preprocessing import LabelEncoder\n",
    "import matplotlib.pyplot as plt\n",
    "import ast # For safetly handling the tuple\n",
    "from datetime import datetime, timedelta\n",
    "import os\n",
    "#pd.set_option(\"logger.info.max_columns\", None)\n",
    "#pd.set_option(\"logger.info.max_rows\", None)\n",
    "\n",
    "\n",
    "#For ALS model modules\n",
    "from itertools import product\n",
    "from implicit.als import AlternatingLeastSquares\n",
    "\n",
    "from scipy.sparse import csr_matrix\n",
    "import implicit\n",
    "\n",
    "from sklearn.manifold import TSNE\n",
    "import matplotlib.pyplot as plt\n",
    "\n",
    "#Modules created Locally\n",
    "from one_pull_transcation import pull_customer_category_data #remember to change the toold box location after testing\n",
    "from two_eda import eda_analysis\n",
    "from three_feature_engineering import feature_engineering\n",
    "from four_model_building import prepare_interaction_matrix\n",
    "from five_pull_test_data import pull_customer_category_test_data #\n",
    "from six_hyper_parameter_tuning import hyper_parameter_tuning\n",
    "from df_to_bq import append_model_parameter # this is the seventh py file\n",
    "from seven_model_training import final_model_based_hyper_params\n",
    "from eight_modelrecommendations import model_recommendations\n",
    "from pull_run_id_and_hyper_params import pull_run_id_hyper_params\n",
    "from push_data_to_bq import get_top_categories,customer_categories,df_to_bq\n",
    "\n",
    "\n",
    "\n",
    "import logging\n",
    "\n",
    "\n",
    "\n",
    "#User_inputs\n",
    "input_path = 'C://Users//balaji_muthuvelapp77//Deployment on VM//Propensity_Model//'\n",
    "output_path = r'C://Users//balaji_muthuvelapp77//Deployment on VM//Propensity_Model//'\n",
    "output_path_logs = r'C://Users//balaji_muthuvelapp77//Deployment on VM//Propensity_Model//logs'\n",
    "project_name = 'thg-beauty'\n",
    "model_parameters_table_name = 'Workspace_Sandbox.mode_parameters_performance_metrics'\n",
    "model_results_table_name = 'thg-beauty.Workspace_Sandbox.propensity_category' # this will contain the model results for each refresh.\n",
    "no_of_recommendations_final_model  = 7 # how many recommendations you want it from the final model\n",
    "\n",
    "#Retrain dates contrains the list of dates the model will be trained, actual date was 01-09 now changed to 12-29 to avoid vm issues\n",
    "retrain_dates = [f'11-04-{datetime.today().year}','01-03-{datetime.today().year}',f'01-06-{datetime.today().year}',f'01-15-{datetime.today().year}'] #f,\n",
    "today_date = datetime.now().strftime(\"%d-%m-%Y\")\n",
    "\n",
    "\n",
    "# In[4]:\n",
    "\n",
    "\n",
    "if today_date in retrain_dates:\n",
    "    print(today_date)\n",
    "\n",
    "\n",
    "# In[5]:\n",
    "\n",
    "\n",
    "#For removing the existing handlers as it was conflicting with this one\n",
    "for handler in logging.root.handlers[:]:\n",
    "    logging.root.removeHandler(handler)\n",
    "\n",
    "\n",
    "# In[6]:\n",
    "\n",
    "\n",
    "# Till we complete the test, dsiable the logging\n",
    "\n",
    "os.makedirs(output_path, exist_ok=True)  # Ensure the directory exists\n",
    "\n",
    "log_file = os.path.join(output_path_logs, f'propensity_pipeline_final_{today_date}.log')\n",
    "logging.basicConfig(\n",
    "    level=logging.INFO,  # Set logging level\n",
    "    format='%(asctime)s - %(levelname)s - %(message)s',\n",
    "    handlers=[\n",
    "        logging.FileHandler(log_file, mode='w'),  # File logging\n",
    "        logging.StreamHandler()  # Print logs to console\n",
    "    ]\n",
    ")\n",
    "\n",
    "logger = logging.getLogger(__name__)  # Create a logger\n",
    "\n",
    "\n",
    "# In[7]:\n",
    "\n",
    "\n",
    "#This fundcion will help in generating run id\n",
    "def generate_run_id():\n",
    "    timestamp = datetime.now().strftime(\"%Y%m%d%H%M%S\")  # Current time in YYYYMMDDHHMMSS format\n",
    "    return f\"{timestamp}\"\n",
    "\n",
    "\n",
    "# In[8]:\n",
    "\n",
    "\n",
    "run_id = generate_run_id()\n",
    "# logger.info(f\"Pipeline Run ID: {run_id}\")\n",
    "\n",
    "\n",
    "# In[9]:\n",
    "\n",
    "\n",
    "#Defining the training and testing date for retrain part of the code\n",
    "# Get the current date\n",
    "current_date = datetime.today()\n",
    "\n",
    "#current_date = datetime.today()\n",
    "end_date_train  = current_date - timedelta(days=60)\n",
    "start_date_train = end_date_train - timedelta(days=365)\n",
    "start_date_test = end_date_train + timedelta(days=1)\n",
    "end_date_test = current_date - timedelta(days=1)\n",
    "#For testing purpose\n",
    "#end_date_train  = current_date - timedelta(days=5)\n",
    "#start_date_train = end_date_train - timedelta(days=5)\n",
    "#start_date_test = end_date_train + timedelta(days=1)\n",
    "#end_date_test = current_date - timedelta(days=1)\n",
    "\n",
    "\n",
    "\n",
    "# Print the results\n",
    "print(\"Start Date for Training:\", start_date_train.strftime('%Y-%m-%d'))\n",
    "print(\"End Date for Training:\", end_date_train.strftime('%Y-%m-%d'))\n",
    "print(\"Start Date for Testing:\", start_date_test.strftime('%Y-%m-%d'))\n",
    "print(\"End Date for Testing:\", end_date_test.strftime('%Y-%m-%d'))\n",
    "\n",
    "\n",
    "# Format the dates as 'yyyy-mm-dd'\n",
    "end_date_train_str = end_date_train.strftime('%Y-%m-%d')\n",
    "start_date_train_str = start_date_train.strftime('%Y-%m-%d')\n",
    "start_date_test_str = start_date_test.strftime('%Y-%m-%d')\n",
    "end_date_test_str = end_date_test.strftime('%Y-%m-%d')\n",
    "\n",
    "\n",
    "## Defining the date for refresh based on the past 365 days\n",
    "start_date_refresh = current_date - timedelta(days=365)\n",
    "end_date_refresh = current_date- timedelta(days=1)\n",
    "#For testing purpose\n",
    "# start_date_refresh = current_date - timedelta(days=5)\n",
    "# end_date_refresh = current_date- timedelta(days=1)\n",
    "print(\"Start day of refresh:\",start_date_refresh.strftime('%Y-%m-%d'))\n",
    "print(\"End day of refresh:\", end_date_refresh.strftime('%Y-%m-%d'))\n",
    "\n",
    "start_date_refresh_str = start_date_refresh.strftime('%Y-%m-%d')\n",
    "end_date_refresh_str = end_date_refresh.strftime('%Y-%m-%d')\n",
    "\n",
    "\n",
    "\n",
    "# In[10]:\n",
    "\n",
    "\n",
    "def pipeline(start_date_train_str, end_date_train_str, start_date_test_str, end_date_test_str, start_date_refresh_str, end_date_refresh_str):\n",
    "    try:\n",
    "        user_inputs = pd.read_excel(f'{input_path}Input_to_code_file.xlsx')\n",
    "        input_columns = ['Site_Key', 'Business_Unit', 'Country_Name', 'Prestige_Region']\n",
    "        user_inputs = user_inputs[input_columns].drop_duplicates()  # Remove duplicate inputs\n",
    "       # Drop completely empty rows\n",
    "        user_inputs = user_inputs.dropna(how='all') \n",
    "\n",
    "        # Loop through user inputs\n",
    "        for index, row in user_inputs.iterrows():\n",
    "            site_key = int(row['Site_Key'])\n",
    "            bu = row['Business_Unit']\n",
    "            country_name = row['Country_Name']\n",
    "            prestige_region = row['Prestige_Region']\n",
    "\n",
    "            run_id = generate_run_id()\n",
    "            logger.info(f\"Run ID: {run_id}\")\n",
    "\n",
    "            start_date_train = start_date_train_str\n",
    "            end_date_train = end_date_train_str\n",
    "            start_date_test = start_date_test_str\n",
    "            end_data_test = end_date_test_str\n",
    "\n",
    "            logger.info(f\"Training period: {start_date_train} to {end_date_train}\")\n",
    "            logger.info(f\"Processing: Site_Key={site_key}, Business_Unit={bu}, Country_Name={country_name}, Prestige_Region={prestige_region}\")\n",
    "\n",
    "            if today_date in retrain_dates:\n",
    "                user_level_data_dataset = pull_customer_category_data(start_date_train, end_date_train, site_key, country_name, prestige_region)#\n",
    "                #print(user_level_data_dataset.head(5))# Data added on 07-04-2025\n",
    "                #user_level_data_dataset.to_csv(f'{output_path}user_level_data_dataset.csv')\n",
    "                logger.info(f\"User dataset shape: {user_level_data_dataset.shape}\")\n",
    "                logger.info(\"Feature engineering started\")\n",
    "                \n",
    "                user_level_data_dataset, score_variables = feature_engineering(user_level_data_dataset,site_key)\n",
    "                logger.info(\"Feature engineering completed\")\n",
    "                # display(user_level_data_dataset.head(5))\n",
    "                # display(user_level_data_dataset)\n",
    "                        \n",
    "                interaction_matrix, user_mapping, category_mapping, reverse_user_mapping, reverse_category_mapping, customer_key_set = prepare_interaction_matrix(user_level_data_dataset, score_variables)\n",
    "                logger.info(\"Model building data preparation completed\")\n",
    "\n",
    "                test_level_data_grouped, customer_key_mapping_values = pull_customer_category_test_data(start_date_train,end_date_train,\n",
    "                    start_date_test, end_data_test, site_key, country_name, prestige_region, customer_key_set, user_mapping, category_mapping, reverse_user_mapping, reverse_category_mapping\n",
    "                )\n",
    "                logger.info(\"Test data pulled successfully\")\n",
    "\n",
    "                best_params, best_hit_rate = hyper_parameter_tuning(interaction_matrix, customer_key_mapping_values, test_level_data_grouped, reverse_user_mapping, reverse_category_mapping)\n",
    "                logger.info(\"Hyperparameter tuning completed\")\n",
    "                logger.info(f\"Best Parameters: {best_params}\")\n",
    "\n",
    "                best_params_str = str(best_params)\n",
    "\n",
    "                input_to_bq_model_parameters_table = append_model_parameter(\n",
    "                    run_id, best_params_str, best_hit_rate, site_key, bu, country_name, prestige_region, project_name, model_parameters_table_name\n",
    "                )\n",
    "                logger.info(\"Model parameters data ingested to BQ\")\n",
    "\n",
    "            else:\n",
    "                start_date_train = start_date_refresh_str\n",
    "                end_date_train = end_date_refresh_str\n",
    "\n",
    "                user_level_data_dataset = pull_customer_category_data(start_date_train, end_date_train, site_key, country_name, prestige_region)\n",
    "                logger.info(\"Feature engineering started\")\n",
    "                \n",
    "                user_level_data_dataset, score_variables = feature_engineering(user_level_data_dataset,site_key)\n",
    "                logger.info(\"Feature engineering completed\")\n",
    "\n",
    "                interaction_matrix, user_mapping, category_mapping, reverse_user_mapping, reverse_category_mapping, customer_key_set = prepare_interaction_matrix(user_level_data_dataset, score_variables)\n",
    "                logger.info(\"Model building data preparation completed\")\n",
    "\n",
    "                best_params = pull_run_id_hyper_params(site_key, country_name, prestige_region)\n",
    "                logger.info(f\"Best parameters fetched for Site_Key={site_key}, Country_Name={country_name}, Prestige_Region={prestige_region}\")\n",
    "                logger.info(f\"Best Parameters: {best_params}\")\n",
    "\n",
    "                logger.info(\"Model refresh started\")\n",
    "                first_row_value = best_params.iloc[0]['model_parameters']\n",
    "                best_params_parsed_tuple = ast.literal_eval(first_row_value)\n",
    "                \n",
    "                model, interaction_matrix_csr = final_model_based_hyper_params(best_params_parsed_tuple, interaction_matrix)\n",
    "                logger.info(\"Model refresh completed\")\n",
    "\n",
    "                logger.info(\"Generating model recommendations\")\n",
    "                recommendations_df = model_recommendations(no_of_recommendations_final_model, model, user_mapping, reverse_category_mapping, reverse_user_mapping, interaction_matrix_csr)\n",
    "                logger.info(\"Model recommendations completed\")\n",
    "                logger.info(f\"Top Recommendations:\\n{recommendations_df.head(5)}\")\n",
    "\n",
    "                recommendations_df.reset_index(inplace=True)\n",
    "                user_level_data_dataset = pd.merge(user_level_data_dataset, recommendations_df, how='left', left_on=['Customer_Key'], right_on=['index'])\n",
    "                user_level_data_dataset.drop('index', axis=1, inplace=True)\n",
    "                logger.info(\"user_level_data_dataset merged\")\n",
    "                #user_level_data_dataset[['categories_purchased', 'categories_not_purchased']] = user_level_data_dataset.apply(customer_categories, axis=1)\n",
    "                logger.info(\"user_level_data_dataset categories purchased and categories not purchased has started\")\n",
    "                #user_level_data_dataset.to_csv('user_level_data_dataset_before_Validation.csv')\n",
    "                user_level_data_dataset[['categories_purchased', 'categories_not_purchased']] = user_level_data_dataset.apply(lambda row: customer_categories(row, site_key), axis=1)\n",
    "\n",
    "                logger.info(f\"Refresh completed for {site_key}, {bu}, {country_name}, {prestige_region}\")\n",
    "\n",
    "                #user_level_data_dataset[['Recommendation_1_existing_categories', 'Recommendation_2_existing_categories']] = user_level_data_dataset.apply(get_top_categories, axis=1)\n",
    "                user_level_data_dataset[['Recommendation_1_existing_categories', 'Recommendation_2_existing_categories']] = user_level_data_dataset.apply(lambda row: get_top_categories(row, site_key), axis=1)\n",
    "\n",
    "\n",
    "                user_level_data_dataset['Business_Unit'] = bu\n",
    "                user_level_data_dataset['Country_Name'] = country_name\n",
    "                user_level_data_dataset['Prestige_Region'] = prestige_region\n",
    "                user_level_data_dataset['Site_Key'] = site_key\n",
    "\n",
    "                # display(user_level_data_dataset.head(5))\n",
    "\n",
    "                columns_to_clean = ['Recommendation_1', 'Recommendation_2', 'Recommendation_3', 'Recommendation_4', 'Recommendation_5','Recommendation_6','Recommendation_7']\n",
    "                user_level_data_dataset[columns_to_clean] = user_level_data_dataset[columns_to_clean].applymap(lambda x: x.replace(\"_score\", \"\") if isinstance(x, str) else x)\n",
    "                user_level_data_dataset[columns_to_clean] = user_level_data_dataset[columns_to_clean].applymap(lambda x: x.capitalize() if isinstance(x, str) else x)\n",
    "\n",
    "                if site_key == 166:\n",
    "                    features_for_model_results_table = [\n",
    "                        'Business_Unit', 'Country_Name', 'Prestige_Region', 'Site_Key', 'Customer_Key',\n",
    "                        'Recommendation_1', 'Recommendation_2', 'Recommendation_3', 'Recommendation_4', 'Recommendation_5','Recommendation_6','Recommendation_7',\n",
    "                        'Score_1', 'Score_2', 'Score_3', 'Score_4', 'Score_5','Score_6','Score_7',\n",
    "                        'beauty_box_score', 'professional_skincare_score', 'prestige_skincare_score',\n",
    "                        'cosmetics_score', 'hair_score', 'fragrance_score', 'devices_score',\n",
    "                        'categories_purchased', 'categories_not_purchased',\n",
    "                        'Recommendation_1_existing_categories', 'Recommendation_2_existing_categories'\n",
    "                    ]\n",
    "                else:\n",
    "                    features_for_model_results_table = [\n",
    "                        'Business_Unit', 'Country_Name', 'Prestige_Region', 'Site_Key', 'Customer_Key',\n",
    "                        'Recommendation_1', 'Recommendation_2', 'Recommendation_3', 'Recommendation_4', 'Recommendation_5',\n",
    "                        'Score_1', 'Score_2', 'Score_3', 'Score_4', 'Score_5','Score_6','Score_7',\n",
    "                        'beauty_box_score', 'skin_score', 'body_score',\n",
    "                        'cosmetics_score', 'hair_score', 'fragrance_score', 'others_score',\n",
    "                        'categories_purchased', 'categories_not_purchased',\n",
    "                        'Recommendation_1_existing_categories', 'Recommendation_2_existing_categories'\n",
    "                    ]\n",
    "\n",
    "                user_level_data_dataset = user_level_data_dataset[features_for_model_results_table]\n",
    "                #file_name = f\"{bu}_{country_name},{prestige_region},{site_key}_output_check.csv\"\n",
    "                #user_level_data_dataset.to_csv(file_name)\n",
    "                #user_level_data_dataset.to_csv(f'{output_path}user_level_data_dataset.csv')\n",
    "                df_to_bq(user_level_data_dataset, site_key, bu, country_name, prestige_region, model_results_table_name)\n",
    "                logger.info(\"Data pushed to BQ successfully\")\n",
    "\n",
    "    except Exception as e:\n",
    "        logger.error(f\"An error occurred: {e}\")\n",
    "\n",
    "    finally:\n",
    "        logging.shutdown()  # Ensure all logs are flushed and saved before exiting\n",
    "\n",
    "\n",
    "# In[11]:\n",
    "\n",
    "\n",
    "def main():\n",
    "    print(\"Starting the pipeline\")\n",
    "    #pipeline()\n",
    "    pipeline(start_date_train_str,end_date_train_str,start_date_test_str,end_date_test_str,start_date_refresh_str,end_date_refresh_str)\n",
    "    print(\"Closing the pipeline\")\n",
    "\n",
    "if __name__ == \"__main__\":\n",
    "    main()\n",
    "    \n",
    "\n",
    "\n",
    "# In[ ]:\n",
    "\n",
    "\n",
    "\n",
    "\n"
   ]
  },
  {
   "cell_type": "code",
   "execution_count": 3,
   "id": "5f1198dd-3684-43d3-9244-f6fcecc075e3",
   "metadata": {},
   "outputs": [
    {
     "name": "stdout",
     "output_type": "stream",
     "text": [
      "Collecting implicit\n",
      "  Downloading implicit-0.7.2-cp39-cp39-win_amd64.whl.metadata (6.3 kB)\n",
      "Requirement already satisfied: numpy>=1.17.0 in c:\\users\\balaji_muthuvelapp77\\anaconda3\\envs\\py39\\lib\\site-packages (from implicit) (2.0.2)\n",
      "Requirement already satisfied: scipy>=0.16 in c:\\users\\balaji_muthuvelapp77\\anaconda3\\envs\\py39\\lib\\site-packages (from implicit) (1.13.1)\n",
      "Requirement already satisfied: tqdm>=4.27 in c:\\users\\balaji_muthuvelapp77\\anaconda3\\envs\\py39\\lib\\site-packages (from implicit) (4.67.1)\n",
      "Requirement already satisfied: threadpoolctl in c:\\users\\balaji_muthuvelapp77\\anaconda3\\envs\\py39\\lib\\site-packages (from implicit) (3.6.0)\n",
      "Requirement already satisfied: colorama in c:\\users\\balaji_muthuvelapp77\\anaconda3\\envs\\py39\\lib\\site-packages (from tqdm>=4.27->implicit) (0.4.6)\n",
      "Downloading implicit-0.7.2-cp39-cp39-win_amd64.whl (752 kB)\n",
      "   ---------------------------------------- 0.0/752.1 kB ? eta -:--:--\n",
      "   --------------------------------------- 752.1/752.1 kB 15.8 MB/s eta 0:00:00\n",
      "Installing collected packages: implicit\n",
      "Successfully installed implicit-0.7.2\n",
      "Note: you may need to restart the kernel to use updated packages.\n"
     ]
    }
   ],
   "source": [
    "pip install implicit"
   ]
  },
  {
   "cell_type": "code",
   "execution_count": null,
   "id": "807a15e9-8953-4774-b400-3f0e25666208",
   "metadata": {},
   "outputs": [],
   "source": []
  }
 ],
 "metadata": {
  "kernelspec": {
   "display_name": "Python 3.9 (py39)",
   "language": "python",
   "name": "py39"
  },
  "language_info": {
   "codemirror_mode": {
    "name": "ipython",
    "version": 3
   },
   "file_extension": ".py",
   "mimetype": "text/x-python",
   "name": "python",
   "nbconvert_exporter": "python",
   "pygments_lexer": "ipython3",
   "version": "3.9.23"
  }
 },
 "nbformat": 4,
 "nbformat_minor": 5
}
